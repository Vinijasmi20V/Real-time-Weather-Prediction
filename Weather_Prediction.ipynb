{
  "nbformat": 4,
  "nbformat_minor": 0,
  "metadata": {
    "colab": {
      "provenance": [],
      "include_colab_link": true
    },
    "kernelspec": {
      "name": "python3",
      "display_name": "Python 3"
    },
    "language_info": {
      "name": "python"
    }
  },
  "cells": [
    {
      "cell_type": "markdown",
      "metadata": {
        "id": "view-in-github",
        "colab_type": "text"
      },
      "source": [
        "<a href=\"https://colab.research.google.com/github/Vinijasmi20V/Real-time-Weather-Prediction/blob/main/Weather_Prediction.ipynb\" target=\"_parent\"><img src=\"https://colab.research.google.com/assets/colab-badge.svg\" alt=\"Open In Colab\"/></a>"
      ]
    },
    {
      "cell_type": "markdown",
      "source": [
        "Section 1: Import Libraries"
      ],
      "metadata": {
        "id": "GBXnKgl40k5y"
      }
    },
    {
      "cell_type": "code",
      "execution_count": null,
      "metadata": {
        "id": "nG0h2s3AxejR"
      },
      "outputs": [],
      "source": [
        "import requests #This Library helps us to fetch data from API\n",
        "import pandas as pd #for handling and analysing data\n",
        "import numpy as np #for numerical operations\n",
        "from sklearn.model_selection import train_test_split #to split data into training and testing sets\n",
        "from sklearn.preprocessing import LabelEncoder #to convert categorical data into numerical values\n",
        "from sklearn.ensemble import RandomForestClassifier, RandomForestRegressor #models for classification and regression\n",
        "from sklearn.metrics import mean_squared_error #to measure accuracy of prediction\n",
        "from datetime import datetime, timedelta #to handle date and time\n",
        "import pytz"
      ]
    },
    {
      "cell_type": "code",
      "source": [
        "API_KEY='a32c8fe9f2e4baee6cd140835d85b610' #REplace  with your actual API Keys\n",
        "BASE_URL='https://api.openweathermap.org/data/2.5/' #base url for making API requests"
      ],
      "metadata": {
        "id": "PLexUgF5aQLZ"
      },
      "execution_count": null,
      "outputs": []
    },
    {
      "cell_type": "markdown",
      "source": [
        "1. Fetch cuuent weather data"
      ],
      "metadata": {
        "id": "MJDoBLD-cCvy"
      }
    },
    {
      "cell_type": "code",
      "source": [
        "def get_current_weather(city):\n",
        "    url=f\"{BASE_URL}weather?q={city}&appid={API_KEY}&units=metric\" #construct the API request url\n",
        "    response=requests.get(url) #send the request to the API\n",
        "    data=response.json() #parse the response as JSON\n",
        "    return {\n",
        "        'city': data['name'],\n",
        "        'current_temp': round(data['main']['temp']),\n",
        "        'feels_like': round(data['main']['feels_like']),\n",
        "        'temp_min':round(data['main']['temp_min']),\n",
        "        'temp_max': round(data['main']['temp_max']) ,\n",
        "        'humidity': round(data['main']['humidity']),\n",
        "        'description': data['weather'][0]['description'],\n",
        "        'country': data['sys']['country'],\n",
        "        'wind_gust_dir': data['wind']['deg'],\n",
        "        'pressure':data['main']['pressure'],\n",
        "        'wind_gust_speed': data['wind']['speed']\n",
        "\n",
        "    }\n"
      ],
      "metadata": {
        "id": "DucQm1lvcLia"
      },
      "execution_count": null,
      "outputs": []
    },
    {
      "cell_type": "markdown",
      "source": [
        "2. Read Historical Data"
      ],
      "metadata": {
        "id": "KG00tMjQf-Bz"
      }
    },
    {
      "cell_type": "code",
      "source": [
        "def read_historical_data(weather_csv):\n",
        "   df=pd.read_csv(weather_csv) # load csv file into dataframe\n",
        "   df=df.dropna() #remove rows with missing values\n",
        "   df=df.drop_duplicates()\n",
        "   return df"
      ],
      "metadata": {
        "id": "kZk4vlY4gDrV"
      },
      "execution_count": null,
      "outputs": []
    },
    {
      "cell_type": "markdown",
      "source": [
        "3. Prepare data for training"
      ],
      "metadata": {
        "id": "B5nZrqDVh5fb"
      }
    },
    {
      "cell_type": "code",
      "source": [
        "def prepare_data(data):\n",
        "    le=LabelEncoder()\n",
        "    data['WindGustDir']=le.fit_transform(data['WindGustDir'])\n",
        "    data['RainTomorrow']=le.fit_transform(data['RainTomorrow'])\n",
        "    X=data[['MinTemp','MaxTemp','WindGustDir','WindGustSpeed','Humidity','Pressure','Temp']]\n",
        "    y=data['RainTomorrow'] #target variable\n",
        "\n",
        "\n",
        "\n",
        "    return X,y,le"
      ],
      "metadata": {
        "id": "putxFtUBf8B8"
      },
      "execution_count": null,
      "outputs": []
    },
    {
      "cell_type": "markdown",
      "source": [
        "**Train Rain Prediction Model**\n",
        "   "
      ],
      "metadata": {
        "id": "ddGdTst2t6Zu"
      }
    },
    {
      "cell_type": "code",
      "source": [
        "def train_rain_model(x,y):\n",
        "  x_train, x_test, y_train, y_test = train_test_split(x, y, test_size=0.2, random_state=42)\n",
        "  model = RandomForestClassifier(n_estimators=100, random_state=42)\n",
        "  model.fit(x_train, y_train)\n",
        "\n",
        "  y_pred = model.predict(x_test)\n",
        "\n",
        "  print(\"Mean Squared Error for Rain Model\")\n",
        "\n",
        "  print(mean_squared_error(y_test, y_pred))\n",
        "\n",
        "  return model\n",
        "\n",
        "\n",
        "\n"
      ],
      "metadata": {
        "id": "dGWW06qhuJuI"
      },
      "execution_count": null,
      "outputs": []
    },
    {
      "cell_type": "markdown",
      "source": [
        "**5.Prepare regression data**"
      ],
      "metadata": {
        "id": "QAVINADq_7-g"
      }
    },
    {
      "cell_type": "code",
      "source": [
        "def prepare_regression_data(data, feature):\n",
        "  x,y = [], []\n",
        "\n",
        "  for i in range(len(data) - 1):\n",
        "    x.append(data[feature].iloc[i])\n",
        "\n",
        "    y.append(data[feature].iloc[i+1])\n",
        "\n",
        "  x = np.array(x).reshape(-1, 1)\n",
        "  y = np.array(y)\n",
        "  return x,y"
      ],
      "metadata": {
        "id": "qqFs4F_kAGSh"
      },
      "execution_count": null,
      "outputs": []
    },
    {
      "cell_type": "markdown",
      "source": [
        "**Train Regression Model**"
      ],
      "metadata": {
        "id": "CBXumjahB9yS"
      }
    },
    {
      "cell_type": "code",
      "source": [
        "def train_regression_model(x,y):\n",
        "  model = RandomForestRegressor(n_estimators=100, random_state=42)\n",
        "  model.fit(x, y)\n",
        "  return model"
      ],
      "metadata": {
        "id": "Y_YT0K36CC02"
      },
      "execution_count": null,
      "outputs": []
    },
    {
      "cell_type": "markdown",
      "source": [
        "**Predict Future**"
      ],
      "metadata": {
        "id": "N1zJ8ANIC1qO"
      }
    },
    {
      "cell_type": "code",
      "source": [
        "def predict_future(model, current_value):\n",
        "  predictions = [current_value]\n",
        "\n",
        "  for i in range(5):\n",
        "    next_value = model.predict(np.array([[predictions[-1]]]))\n",
        "\n",
        "    predictions.append(next_value[0])\n",
        "\n",
        "  return predictions[1:]"
      ],
      "metadata": {
        "id": "6LBim7_3C45O"
      },
      "execution_count": null,
      "outputs": []
    },
    {
      "cell_type": "markdown",
      "source": [
        "**Weather Analysis Function**"
      ],
      "metadata": {
        "id": "QUoDc-QDDkzj"
      }
    },
    {
      "cell_type": "code",
      "source": [
        "def weather_view():\n",
        "    city = input('Enter any city name: ')\n",
        "    current_weather = get_current_weather(city)\n",
        "\n",
        "    # Load historical data\n",
        "    historical_data = read_historical_data('/content/weather.csv')\n",
        "\n",
        "    # Prepare and train the rain prediction model\n",
        "    x, y, le = prepare_data(historical_data)\n",
        "    rain_model = train_rain_model(x, y)\n",
        "\n",
        "    # Map wind direction to compass points\n",
        "    wind_deg = current_weather.get('wind_gust_dir',0) % 360  # Get wind_gust_dir, default to 0 if not found\n",
        "    compass_points = {\n",
        "        (\"N\", 0, 11.25), (\"NNE\", 11.5, 33.75), (\"NE\", 33.75, 56.25), (\"ENE\", 56.25, 78.75),\n",
        "        (\"E\", 78.75, 101.25), (\"ESE\", 101.25, 123.75), (\"SE\", 123.75, 146.25), (\"SSE\", 146.25, 168.75),\n",
        "        (\"S\", 168.75, 191.25), (\"SSW\", 191.25, 213.75), (\"SW\", 213.75, 236.25), (\"WSW\", 236.25, 258.75),\n",
        "        (\"W\", 258.75, 281.25), (\"WNW\", 281.25, 303.75), (\"NW\", 303.75, 326.25), (\"NNW\", 326.25, 348.75)\n",
        "    }\n",
        "    compass_direction = next(point for point, start, end in compass_points if start <= wind_deg < end)  # Added a default value (None)\n",
        "    compass_direction_encoded = le.transform([compass_direction])[0] if compass_direction in le.classes_ else -1\n",
        "\n",
        "    current_data = {\n",
        "        'MinTemp': current_weather['temp_min'],\n",
        "        'MaxTemp': current_weather['temp_max'],\n",
        "        'WindGustDir': compass_direction_encoded,  # Fixed the missing comma\n",
        "        'WindGustSpeed': current_weather.get('wind_gust_speed',0),\n",
        "        'Humidity': current_weather['humidity'],\n",
        "        'Pressure': current_weather['pressure'],\n",
        "        'Temp': current_weather['current_temp'],\n",
        "    }\n",
        "    current_df = pd.DataFrame([current_data])\n",
        "\n",
        "    # Rain prediction\n",
        "    rain_prediction = rain_model.predict(current_df)[0]\n",
        "\n",
        "    # Prepare regression model for temperature and humidity\n",
        "    x_temp, y_temp = prepare_regression_data(historical_data, 'Temp')\n",
        "    x_hum, y_hum = prepare_regression_data(historical_data, 'Humidity')\n",
        "    temp_model = train_regression_model(x_temp, y_temp)\n",
        "    hum_model = train_regression_model(x_hum, y_hum)\n",
        "\n",
        "    # Predict future temperature and humidity\n",
        "    future_temp = predict_future(temp_model, current_weather['temp_min'])\n",
        "    future_hum = predict_future(hum_model, current_weather['humidity'])\n",
        "\n",
        "    # Prepare time for future predictions\n",
        "    timezone = pytz.timezone('Asia/Karachi')\n",
        "    now = datetime.now(timezone)\n",
        "    next_hour = now + timedelta(hours=1)\n",
        "    next_hour = next_hour.replace(minute=0, second=0, microsecond=0)\n",
        "    future_times = [(next_hour + timedelta(hours=i)).strftime(\"%H:00\") for i in range(5)]  # Fixed strftime\n",
        "\n",
        "    # Display results\n",
        "    print(f\"City: {city}, {current_weather['country']}\")\n",
        "    print(f\"Current Temperature: {current_weather['current_temp']}\")\n",
        "    print(f\"Feels Like: {current_weather['feels_like']}\")\n",
        "    print(f\"Minimum Temperature: {current_weather['temp_min']}°C\")\n",
        "    print(f\"Maximum Temperature: {current_weather['temp_max']}°C\")\n",
        "    print(f\"Humidity: {current_weather['humidity']}%\")\n",
        "    print(f\"Weather Prediction: {current_weather['description']}\")\n",
        "    print(f\"Rain Prediction : {'Yes' if rain_prediction else 'No'}\")\n",
        "\n",
        "    print(\"\\nFuture Temperature Predictions:\")\n",
        "    for time, temp in zip(future_times, future_temp):\n",
        "        print(f\"{time}: {round(temp, 1)}°C\")\n",
        "\n",
        "    print(\"\\nFuture Humidity Prediction:\")\n",
        "    for time, humidity in zip(future_times, future_hum):\n",
        "        print(f\"{time}: {round(humidity, 1)}%\")\n",
        "\n",
        "weather_view()\n"
      ],
      "metadata": {
        "colab": {
          "base_uri": "https://localhost:8080/"
        },
        "id": "9ZXnFkZjGXHR",
        "outputId": "fcdc89b1-5307-45ff-eff0-baf3ff1a2a06"
      },
      "execution_count": null,
      "outputs": [
        {
          "output_type": "stream",
          "name": "stdout",
          "text": [
            "Enter any city name: kanyakumari\n",
            "Mean Squared Error for Rain Model\n",
            "0.1506849315068493\n",
            "City: kanyakumari, IN\n",
            "Current Temperature: 28\n",
            "Feels Like: 30\n",
            "Minimum Temperature: 28°C\n",
            "Maximum Temperature: 28°C\n",
            "Humidity: 62%\n",
            "Weather Prediction: broken clouds\n",
            "Rain Prediction : Yes\n",
            "\n",
            "Future Temperature Predictions:\n",
            "08:00: 27.7°C\n",
            "09:00: 22.8°C\n",
            "10:00: 25.4°C\n",
            "11:00: 24.7°C\n",
            "12:00: 23.4°C\n",
            "\n",
            "Future Humidity Prediction:\n",
            "08:00: 56.5%\n",
            "09:00: 40.7%\n",
            "10:00: 52.9%\n",
            "11:00: 51.0%\n",
            "12:00: 46.6%\n"
          ]
        }
      ]
    }
  ]
}